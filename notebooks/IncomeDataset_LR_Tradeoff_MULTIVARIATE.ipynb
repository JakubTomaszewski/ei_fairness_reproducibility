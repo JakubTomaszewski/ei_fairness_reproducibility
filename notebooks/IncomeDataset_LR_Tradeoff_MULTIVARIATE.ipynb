{
 "cells": [
  {
   "cell_type": "code",
   "execution_count": 3,
   "metadata": {},
   "outputs": [],
   "source": [
    "import sys\n",
    "sys.path.append(\"..\")"
   ]
  },
  {
   "cell_type": "code",
   "execution_count": 4,
   "metadata": {},
   "outputs": [],
   "source": [
    "import torch\n",
    "import numpy as np\n",
    "import random\n",
    "import torch.optim as optim\n",
    "\n",
    "from algorithms.algorithms import *\n",
    "from utils.models import *\n",
    "from utils.dataloaders import *\n",
    "\n",
    "from tabulate import tabulate"
   ]
  },
  {
   "cell_type": "code",
   "execution_count": 5,
   "metadata": {},
   "outputs": [],
   "source": [
    "device = 'cpu'\n",
    "np.random.seed(0)\n",
    "\n",
    "dataset = IncomeDataset(device=device, sensitive_feature_labels=[\"SEX\", \"AGEP\"])"
   ]
  },
  {
   "cell_type": "code",
   "execution_count": 8,
   "metadata": {},
   "outputs": [],
   "source": [
    "def pareto_frontier_multi(myArray):\n",
    "    # Sort on first dimension\n",
    "    myArray = myArray[myArray[:,0].argsort()[::-1]]\n",
    "    # Add first row to pareto_frontier\n",
    "    pareto_frontier = myArray[0:1,:]\n",
    "    # Test next row against the last row in pareto_frontier\n",
    "    for row in myArray[1:,:]:\n",
    "        if row[0]<pareto_frontier[-1][0] and row[1]<pareto_frontier[-1][1]:\n",
    "            # If it is better on all features add the row to pareto_frontier\n",
    "            pareto_frontier = np.concatenate((pareto_frontier, [row]))\n",
    "        if row[0]==pareto_frontier[-1][0] and row[1]<pareto_frontier[-1][1]:\n",
    "            # If it is better on all features add the row to pareto_frontier\n",
    "            pareto_frontier[-1] = row\n",
    "    return pareto_frontier\n",
    "\n",
    "def lr_kde_model_runner(dataset, hp, seeds):\n",
    "    test = {'accuracy':[],\n",
    "            'ei_disparity':[],\n",
    "            'dp_disparity':[],\n",
    "            'eo_disparity':[],\n",
    "            'eodd_disparity':[]}\n",
    "    \n",
    "    train = {'accuracy':[],\n",
    "            'ei_disparity':[],\n",
    "            'dp_disparity':[],\n",
    "            'eo_disparity':[],\n",
    "            'eodd_disparity':[]}\n",
    "    \n",
    "    val = {'accuracy':[],\n",
    "            'ei_disparity':[],\n",
    "            'dp_disparity':[],\n",
    "            'eo_disparity':[],\n",
    "            'eodd_disparity':[]}\n",
    "\n",
    "    def append_res(l,acc,ei,dp,eo,eodd):\n",
    "        l['accuracy'].append(acc)\n",
    "        l['ei_disparity'].append(ei)\n",
    "        l['dp_disparity'].append(dp)\n",
    "        l['eo_disparity'].append(eo)\n",
    "        l['eodd_disparity'].append(eodd)\n",
    "\n",
    "    for i in range(len(seeds)):\n",
    "        print('training seed', seeds[i] ,'started')\n",
    "        random.seed(int(seeds[i]))\n",
    "        np.random.seed(seeds[i])\n",
    "        torch.manual_seed(seeds[i]) \n",
    "\n",
    "        model = logReg(num_features=dataset.XZ_train.shape[1])\n",
    "        model = model.to(device)\n",
    "        \n",
    "        lr = hp['learning_rate']\n",
    "        optimizer = optim.Adam(model.parameters(), lr=lr, weight_decay=1e-4)\n",
    "        \n",
    "        results = trainer_kde_fair(\n",
    "            model,\n",
    "            dataset,\n",
    "            optimizer,\n",
    "            device,\n",
    "            n_epochs=hp['n_epochs'],\n",
    "            batch_size=hp['batch_size'], \n",
    "            z_blind=False,\n",
    "            fairness=hp['fairness'], \n",
    "            lambda_=hp['lambda_'], \n",
    "            h=hp['h'], \n",
    "            delta_huber=hp['delta_huber'], \n",
    "            optimal_effort=True, \n",
    "            delta_effort=hp['delta_effort']\n",
    "            )\n",
    "        \n",
    "        append_res(train,results.train_acc_hist[-1],results.train_ei_hist[-1],results.train_dp_hist[-1],results.train_eo_hist[-1],results.train_eodd_hist[-1])\n",
    "        append_res(val,results.val_acc,results.val_ei,results.val_dp,results.val_eo,results.val_eodd)\n",
    "        append_res(test,results.test_acc,results.test_ei,results.test_dp,results.test_eo,results.test_eodd)\n",
    "\n",
    "    def get_res(l):\n",
    "        res = {}\n",
    "        res['accuracy_mean'] = np.mean(l['accuracy'])\n",
    "        res['accuracy_var'] = np.std(l['accuracy'])\n",
    "        res['accuracy_list'] = l['accuracy']\n",
    "        res['ei_mean'] = np.mean(l['ei_disparity'])\n",
    "        res['ei_var'] = np.std(l['ei_disparity'])\n",
    "        res['ei_list'] = l['ei_disparity']\n",
    "        res['dp_mean'] = np.mean(l['dp_disparity'])\n",
    "        res['dp_var'] = np.std(l['dp_disparity'])\n",
    "        res['dp_list'] = l['dp_disparity']\n",
    "        res['eo_mean'] = np.mean(l['eo_disparity'])\n",
    "        res['eo_var'] = np.std(l['eo_disparity'])\n",
    "        res['eo_list'] = l['eo_disparity']\n",
    "        res['eodd_mean'] = np.mean(l['eodd_disparity'])\n",
    "        res['eodd_var'] = np.std(l['eodd_disparity'])\n",
    "        res['eodd_list'] = l['eodd_disparity']\n",
    "        return res\n",
    "\n",
    "    res_train = get_res(train)\n",
    "    res_val = get_res(val)\n",
    "    res_test = get_res(test)\n",
    "    print('Training finished for all seeds.')\n",
    "    \n",
    "    return res_train, res_val, res_test\n",
    "\n",
    "def kde_tradeoff(dataset, hp_test, seeds):\n",
    "    hp = hp_test.copy()\n",
    "    result = []\n",
    "    result_test = []\n",
    "    for i in hp_test['learning_rate']:\n",
    "        for k in hp_test['lambda_']:\n",
    "            for seed in seeds:\n",
    "                c = []\n",
    "                c_test = []\n",
    "                hp['learning_rate'] = i\n",
    "                hp['lambda_'] = k\n",
    "                train, val, test = lr_kde_model_runner(dataset, hp, seeds=[seed])\n",
    "                c.append(hp['learning_rate'])\n",
    "                c.append(hp['lambda_'])\n",
    "                c.append(train['accuracy_mean'])\n",
    "                c.append(val['accuracy_mean'])\n",
    "                c.append(val['ei_mean'])\n",
    "                c.append(val['dp_mean'])\n",
    "                c.append(val['eo_mean'])\n",
    "                c.append(val['eodd_mean'])\n",
    "                c_test.append(test['accuracy_mean'])\n",
    "                c_test.append(test['ei_mean'])\n",
    "                result_test.append(c_test)\n",
    "                result.append(c)\n",
    "    print(tabulate(result, headers=['learning_rate', 'lambda_', 'accuracy_train', 'accuracy_val','ei', 'dp', 'eo', 'eodd']))\n",
    "    return result, result_test"
   ]
  },
  {
   "cell_type": "code",
   "execution_count": 11,
   "metadata": {},
   "outputs": [
    {
     "name": "stdout",
     "output_type": "stream",
     "text": [
      "training seed 0 started\n"
     ]
    },
    {
     "name": "stderr",
     "output_type": "stream",
     "text": [
      "Training: 100%|██████████| 100/100 [05:03<00:00,  3.04s/epochs]\n"
     ]
    },
    {
     "name": "stdout",
     "output_type": "stream",
     "text": [
      "Training finished for all seeds.\n",
      "training seed 1 started\n"
     ]
    },
    {
     "name": "stderr",
     "output_type": "stream",
     "text": [
      "Training: 100%|██████████| 100/100 [04:58<00:00,  2.99s/epochs]\n"
     ]
    },
    {
     "name": "stdout",
     "output_type": "stream",
     "text": [
      "Training finished for all seeds.\n",
      "training seed 2 started\n"
     ]
    },
    {
     "name": "stderr",
     "output_type": "stream",
     "text": [
      "Training: 100%|██████████| 100/100 [05:02<00:00,  3.03s/epochs]\n"
     ]
    },
    {
     "name": "stdout",
     "output_type": "stream",
     "text": [
      "Training finished for all seeds.\n",
      "training seed 0 started\n"
     ]
    },
    {
     "name": "stderr",
     "output_type": "stream",
     "text": [
      "Training: 100%|██████████| 100/100 [05:15<00:00,  3.16s/epochs]\n"
     ]
    },
    {
     "name": "stdout",
     "output_type": "stream",
     "text": [
      "Training finished for all seeds.\n",
      "training seed 1 started\n"
     ]
    },
    {
     "name": "stderr",
     "output_type": "stream",
     "text": [
      "Training: 100%|██████████| 100/100 [05:21<00:00,  3.22s/epochs]\n"
     ]
    },
    {
     "name": "stdout",
     "output_type": "stream",
     "text": [
      "Training finished for all seeds.\n",
      "training seed 2 started\n"
     ]
    },
    {
     "name": "stderr",
     "output_type": "stream",
     "text": [
      "Training: 100%|██████████| 100/100 [05:16<00:00,  3.16s/epochs]\n"
     ]
    },
    {
     "name": "stdout",
     "output_type": "stream",
     "text": [
      "Training finished for all seeds.\n",
      "training seed 0 started\n"
     ]
    },
    {
     "name": "stderr",
     "output_type": "stream",
     "text": [
      "Training: 100%|██████████| 100/100 [05:15<00:00,  3.16s/epochs]\n"
     ]
    },
    {
     "name": "stdout",
     "output_type": "stream",
     "text": [
      "Training finished for all seeds.\n",
      "training seed 1 started\n"
     ]
    },
    {
     "name": "stderr",
     "output_type": "stream",
     "text": [
      "Training: 100%|██████████| 100/100 [05:22<00:00,  3.22s/epochs]\n"
     ]
    },
    {
     "name": "stdout",
     "output_type": "stream",
     "text": [
      "Training finished for all seeds.\n",
      "training seed 2 started\n"
     ]
    },
    {
     "name": "stderr",
     "output_type": "stream",
     "text": [
      "Training: 100%|██████████| 100/100 [05:02<00:00,  3.02s/epochs]\n"
     ]
    },
    {
     "name": "stdout",
     "output_type": "stream",
     "text": [
      "Training finished for all seeds.\n",
      "training seed 0 started\n"
     ]
    },
    {
     "name": "stderr",
     "output_type": "stream",
     "text": [
      "Training: 100%|██████████| 100/100 [05:12<00:00,  3.13s/epochs]\n"
     ]
    },
    {
     "name": "stdout",
     "output_type": "stream",
     "text": [
      "Training finished for all seeds.\n",
      "training seed 1 started\n"
     ]
    },
    {
     "name": "stderr",
     "output_type": "stream",
     "text": [
      "Training: 100%|██████████| 100/100 [05:10<00:00,  3.11s/epochs]\n"
     ]
    },
    {
     "name": "stdout",
     "output_type": "stream",
     "text": [
      "Training finished for all seeds.\n",
      "training seed 2 started\n"
     ]
    },
    {
     "name": "stderr",
     "output_type": "stream",
     "text": [
      "Training: 100%|██████████| 100/100 [04:59<00:00,  2.99s/epochs]\n"
     ]
    },
    {
     "name": "stdout",
     "output_type": "stream",
     "text": [
      "Training finished for all seeds.\n",
      "training seed 0 started\n"
     ]
    },
    {
     "name": "stderr",
     "output_type": "stream",
     "text": [
      "Training: 100%|██████████| 100/100 [04:55<00:00,  2.96s/epochs]\n"
     ]
    },
    {
     "name": "stdout",
     "output_type": "stream",
     "text": [
      "Training finished for all seeds.\n",
      "training seed 1 started\n"
     ]
    },
    {
     "name": "stderr",
     "output_type": "stream",
     "text": [
      "Training: 100%|██████████| 100/100 [05:02<00:00,  3.02s/epochs]\n"
     ]
    },
    {
     "name": "stdout",
     "output_type": "stream",
     "text": [
      "Training finished for all seeds.\n",
      "training seed 2 started\n"
     ]
    },
    {
     "name": "stderr",
     "output_type": "stream",
     "text": [
      "Training: 100%|██████████| 100/100 [05:05<00:00,  3.05s/epochs]\n"
     ]
    },
    {
     "name": "stdout",
     "output_type": "stream",
     "text": [
      "Training finished for all seeds.\n",
      "training seed 0 started\n"
     ]
    },
    {
     "name": "stderr",
     "output_type": "stream",
     "text": [
      "Training: 100%|██████████| 100/100 [05:14<00:00,  3.14s/epochs]\n"
     ]
    },
    {
     "name": "stdout",
     "output_type": "stream",
     "text": [
      "Training finished for all seeds.\n",
      "training seed 1 started\n"
     ]
    },
    {
     "name": "stderr",
     "output_type": "stream",
     "text": [
      "Training: 100%|██████████| 100/100 [04:55<00:00,  2.95s/epochs]\n"
     ]
    },
    {
     "name": "stdout",
     "output_type": "stream",
     "text": [
      "Training finished for all seeds.\n",
      "training seed 2 started\n"
     ]
    },
    {
     "name": "stderr",
     "output_type": "stream",
     "text": [
      "Training: 100%|██████████| 100/100 [04:54<00:00,  2.95s/epochs]\n"
     ]
    },
    {
     "name": "stdout",
     "output_type": "stream",
     "text": [
      "Training finished for all seeds.\n",
      "  learning_rate    lambda_    accuracy_train    accuracy_val          ei         dp          eo        eodd\n",
      "---------------  ---------  ----------------  --------------  ----------  ---------  ----------  ----------\n",
      "          0.001        0            0.817744        0.818315  0.0316439   0.0774129  0.0544926   0.0544926\n",
      "          0.001        0            0.818207        0.814802  0.026737    0.0772871  0.0565781   0.0565781\n",
      "          0.001        0            0.816746        0.819944  0.0387139   0.0765501  0.0481311   0.0481311\n",
      "          0.001        0.2          0.817409        0.817613  0.0248719   0.0741094  0.0497085   0.0497085\n",
      "          0.001        0.2          0.818103        0.815185  0.0222929   0.0733903  0.0522642   0.0522642\n",
      "          0.001        0.2          0.816578        0.82004   0.0305259   0.0733188  0.0440053   0.0440053\n",
      "          0.001        0.4          0.817137        0.817549  0.019922    0.0722119  0.0472375   0.0472375\n",
      "          0.001        0.4          0.817361        0.815057  0.0175983   0.0694859  0.0459906   0.0459906\n",
      "          0.001        0.4          0.815859        0.820232  0.0263931   0.0703545  0.0398038   0.0398038\n",
      "          0.001        0.6          0.815444        0.81477   0.0117243   0.0668517  0.0403049   0.0403049\n",
      "          0.001        0.6          0.815859        0.814227  0.0139119   0.0652133  0.03987     0.03987\n",
      "          0.001        0.6          0.814151        0.818667  0.0190831   0.0665719  0.0356097   0.0356097\n",
      "          0.001        0.8          0.811499        0.811097  0.00554235  0.061034   0.0321161   0.0321161\n",
      "          0.001        0.8          0.811899        0.810617  0.00780919  0.0585977  0.0308137   0.0308137\n",
      "          0.001        0.8          0.810102        0.815728  0.0169095   0.0649863  0.0342615   0.0342615\n",
      "          0.001        0.9          0.804616        0.805603  0.00201227  0.0395341  0.00255233  0.00255233\n",
      "          0.001        0.9          0.805087        0.804453  0.00553317  0.0373602  0.00504209  0.00504209\n",
      "          0.001        0.9          0.804065        0.809276  0.0054612   0.0395198  0.00191902  0.00191902\n"
     ]
    }
   ],
   "source": [
    "EI_hp_test = {}\n",
    "EI_hp_test['lambda_'] = [0]\n",
    "EI_hp_test['n_epochs'] = 100\n",
    "EI_hp_test['batch_size'] = 1024\n",
    "EI_hp_test['fairness'] = ''\n",
    "EI_hp_test['h'] = 0.01\n",
    "EI_hp_test['delta_huber'] = 0.5\n",
    "EI_hp_test['delta_effort'] = 3.1\n",
    "EI_hp_test['learning_rate'] = [0.001]\n",
    "EI_hp_test['lambda_'] = [0,0.2,0.4,0.6,0.8,0.9]\n",
    "EI_hp_test['fairness'] = 'EI'\n",
    "seeds = np.arange(3)\n",
    "_, results_kde = kde_tradeoff(dataset, EI_hp_test, seeds)\n",
    "results_kde_pareto = pareto_frontier_multi(np.squeeze(results_kde))"
   ]
  },
  {
   "cell_type": "code",
   "execution_count": 13,
   "metadata": {},
   "outputs": [],
   "source": [
    "np.save('results/income_tradeoff_kde_ei.npy',results_kde_pareto)"
   ]
  },
  {
   "cell_type": "code",
   "execution_count": 14,
   "metadata": {},
   "outputs": [],
   "source": [
    "def lr_fb_model_runner(dataset, hp, seeds):\n",
    "    test = {'accuracy':[],\n",
    "            'ei_disparity':[],\n",
    "            'dp_disparity':[],\n",
    "            'eo_disparity':[],\n",
    "            'eodd_disparity':[]}\n",
    "    \n",
    "    train = {'accuracy':[],\n",
    "            'ei_disparity':[],\n",
    "            'dp_disparity':[],\n",
    "            'eo_disparity':[],\n",
    "            'eodd_disparity':[]}\n",
    "    \n",
    "    val = {'accuracy':[],\n",
    "            'ei_disparity':[],\n",
    "            'dp_disparity':[],\n",
    "            'eo_disparity':[],\n",
    "            'eodd_disparity':[]}\n",
    "\n",
    "    def append_res(l,acc,ei,dp,eo,eodd):\n",
    "        l['accuracy'].append(acc)\n",
    "        l['ei_disparity'].append(ei)\n",
    "        l['dp_disparity'].append(dp)\n",
    "        l['eo_disparity'].append(eo)\n",
    "        l['eodd_disparity'].append(eodd)\n",
    "\n",
    "    for i in range(len(seeds)):\n",
    "        print('training seed', seeds[i] ,'started')\n",
    "        random.seed(int(seeds[i]))\n",
    "        np.random.seed(seeds[i])\n",
    "        torch.manual_seed(seeds[i]) \n",
    "\n",
    "        model = logReg(num_features=dataset.XZ_train.shape[1])\n",
    "        model = model.to(device)\n",
    "        \n",
    "        lr = hp['learning_rate']\n",
    "        optimizer = optim.Adam(model.parameters(), lr=lr, weight_decay=1e-4)\n",
    "        \n",
    "        results = trainer_fb_fair(\n",
    "            model,\n",
    "            dataset,\n",
    "            optimizer,\n",
    "            device,\n",
    "            n_epochs=hp['n_epochs'],\n",
    "            batch_size=hp['batch_size'], \n",
    "            z_blind=False,\n",
    "            fairness=hp['fairness'], \n",
    "            lambda_=hp['lambda_'], \n",
    "            optimal_effort=True, \n",
    "            delta_effort=hp['delta_effort']\n",
    "            )\n",
    "        \n",
    "        append_res(train,results.train_acc_hist[-1],results.train_ei_hist[-1],results.train_dp_hist[-1],results.train_eo_hist[-1],results.train_eodd_hist[-1])\n",
    "        append_res(val,results.val_acc,results.val_ei,results.val_dp,results.val_eo,results.val_eodd)\n",
    "        append_res(test,results.test_acc,results.test_ei,results.test_dp,results.test_eo,results.test_eodd)\n",
    "\n",
    "    def get_res(l):\n",
    "        res = {}\n",
    "        res['accuracy_mean'] = np.mean(l['accuracy'])\n",
    "        res['accuracy_var'] = np.std(l['accuracy'])\n",
    "        res['accuracy_list'] = l['accuracy']\n",
    "        res['ei_mean'] = np.mean(l['ei_disparity'])\n",
    "        res['ei_var'] = np.std(l['ei_disparity'])\n",
    "        res['ei_list'] = l['ei_disparity']\n",
    "        res['dp_mean'] = np.mean(l['dp_disparity'])\n",
    "        res['dp_var'] = np.std(l['dp_disparity'])\n",
    "        res['dp_list'] = l['dp_disparity']\n",
    "        res['eo_mean'] = np.mean(l['eo_disparity'])\n",
    "        res['eo_var'] = np.std(l['eo_disparity'])\n",
    "        res['eo_list'] = l['eo_disparity']\n",
    "        res['eodd_mean'] = np.mean(l['eodd_disparity'])\n",
    "        res['eodd_var'] = np.std(l['eodd_disparity'])\n",
    "        res['eodd_list'] = l['eodd_disparity']\n",
    "        return res\n",
    "\n",
    "    res_train = get_res(train)\n",
    "    res_val = get_res(val)\n",
    "    res_test = get_res(test)\n",
    "    print('Training finished for all seeds.')\n",
    "    \n",
    "    return res_train, res_val, res_test\n",
    "\n",
    "\n",
    "def fb_tradeoff(dataset, hp_test, seeds):\n",
    "    hp = hp_test.copy()\n",
    "    result = []\n",
    "    result_test = []\n",
    "    for i in hp_test['learning_rate']:\n",
    "        for k in hp_test['lambda_']:\n",
    "            for seed in seeds:\n",
    "                c = []\n",
    "                c_test = []\n",
    "                hp['learning_rate'] = i\n",
    "                hp['lambda_'] = k\n",
    "                train, val, test = lr_fb_model_runner(dataset, hp, seeds=[seed])\n",
    "                c.append(hp['learning_rate'])\n",
    "                c.append(hp['lambda_'])\n",
    "                c.append(train['accuracy_mean'])\n",
    "                c.append(val['accuracy_mean'])\n",
    "                c.append(val['ei_mean'])\n",
    "                c.append(val['dp_mean'])\n",
    "                c.append(val['eo_mean'])\n",
    "                c.append(val['eodd_mean'])\n",
    "                c_test.append(test['accuracy_mean'])\n",
    "                c_test.append(test['ei_mean'])\n",
    "                result_test.append(c_test)\n",
    "                result.append(c)\n",
    "    print(tabulate(result, headers=['learning_rate', 'lambda_', 'accuracy_train', 'accuracy_val','ei', 'dp', 'eo', 'eodd']))\n",
    "    return result, result_test"
   ]
  },
  {
   "cell_type": "code",
   "execution_count": 15,
   "metadata": {},
   "outputs": [
    {
     "name": "stdout",
     "output_type": "stream",
     "text": [
      "training seed 0 started\n"
     ]
    },
    {
     "name": "stderr",
     "output_type": "stream",
     "text": [
      "Training: 100%|██████████| 100/100 [05:00<00:00,  3.01s/epochs]\n"
     ]
    },
    {
     "name": "stdout",
     "output_type": "stream",
     "text": [
      "Training finished for all seeds.\n",
      "training seed 1 started\n"
     ]
    },
    {
     "name": "stderr",
     "output_type": "stream",
     "text": [
      "Training: 100%|██████████| 100/100 [05:09<00:00,  3.10s/epochs]\n"
     ]
    },
    {
     "name": "stdout",
     "output_type": "stream",
     "text": [
      "Training finished for all seeds.\n",
      "training seed 2 started\n"
     ]
    },
    {
     "name": "stderr",
     "output_type": "stream",
     "text": [
      "Training: 100%|██████████| 100/100 [05:17<00:00,  3.17s/epochs]\n"
     ]
    },
    {
     "name": "stdout",
     "output_type": "stream",
     "text": [
      "Training finished for all seeds.\n",
      "training seed 0 started\n"
     ]
    },
    {
     "name": "stderr",
     "output_type": "stream",
     "text": [
      "Training: 100%|██████████| 100/100 [05:12<00:00,  3.13s/epochs]\n"
     ]
    },
    {
     "name": "stdout",
     "output_type": "stream",
     "text": [
      "Training finished for all seeds.\n",
      "training seed 1 started\n"
     ]
    },
    {
     "name": "stderr",
     "output_type": "stream",
     "text": [
      "Training: 100%|██████████| 100/100 [05:11<00:00,  3.12s/epochs]\n"
     ]
    },
    {
     "name": "stdout",
     "output_type": "stream",
     "text": [
      "Training finished for all seeds.\n",
      "training seed 2 started\n"
     ]
    },
    {
     "name": "stderr",
     "output_type": "stream",
     "text": [
      "Training: 100%|██████████| 100/100 [05:00<00:00,  3.00s/epochs]\n"
     ]
    },
    {
     "name": "stdout",
     "output_type": "stream",
     "text": [
      "Training finished for all seeds.\n",
      "training seed 0 started\n"
     ]
    },
    {
     "name": "stderr",
     "output_type": "stream",
     "text": [
      "Training: 100%|██████████| 100/100 [04:37<00:00,  2.77s/epochs]\n"
     ]
    },
    {
     "name": "stdout",
     "output_type": "stream",
     "text": [
      "Training finished for all seeds.\n",
      "training seed 1 started\n"
     ]
    },
    {
     "name": "stderr",
     "output_type": "stream",
     "text": [
      "Training: 100%|██████████| 100/100 [04:40<00:00,  2.81s/epochs]\n"
     ]
    },
    {
     "name": "stdout",
     "output_type": "stream",
     "text": [
      "Training finished for all seeds.\n",
      "training seed 2 started\n"
     ]
    },
    {
     "name": "stderr",
     "output_type": "stream",
     "text": [
      "Training: 100%|██████████| 100/100 [04:43<00:00,  2.83s/epochs]\n"
     ]
    },
    {
     "name": "stdout",
     "output_type": "stream",
     "text": [
      "Training finished for all seeds.\n",
      "training seed 0 started\n"
     ]
    },
    {
     "name": "stderr",
     "output_type": "stream",
     "text": [
      "Training: 100%|██████████| 100/100 [04:49<00:00,  2.90s/epochs]\n"
     ]
    },
    {
     "name": "stdout",
     "output_type": "stream",
     "text": [
      "Training finished for all seeds.\n",
      "training seed 1 started\n"
     ]
    },
    {
     "name": "stderr",
     "output_type": "stream",
     "text": [
      "Training: 100%|██████████| 100/100 [04:53<00:00,  2.93s/epochs]\n"
     ]
    },
    {
     "name": "stdout",
     "output_type": "stream",
     "text": [
      "Training finished for all seeds.\n",
      "training seed 2 started\n"
     ]
    },
    {
     "name": "stderr",
     "output_type": "stream",
     "text": [
      "Training: 100%|██████████| 100/100 [04:54<00:00,  2.94s/epochs]\n"
     ]
    },
    {
     "name": "stdout",
     "output_type": "stream",
     "text": [
      "Training finished for all seeds.\n",
      "training seed 0 started\n"
     ]
    },
    {
     "name": "stderr",
     "output_type": "stream",
     "text": [
      "Training: 100%|██████████| 100/100 [04:55<00:00,  2.96s/epochs]\n"
     ]
    },
    {
     "name": "stdout",
     "output_type": "stream",
     "text": [
      "Training finished for all seeds.\n",
      "training seed 1 started\n"
     ]
    },
    {
     "name": "stderr",
     "output_type": "stream",
     "text": [
      "Training: 100%|██████████| 100/100 [04:55<00:00,  2.96s/epochs]\n"
     ]
    },
    {
     "name": "stdout",
     "output_type": "stream",
     "text": [
      "Training finished for all seeds.\n",
      "training seed 2 started\n"
     ]
    },
    {
     "name": "stderr",
     "output_type": "stream",
     "text": [
      "Training: 100%|██████████| 100/100 [05:00<00:00,  3.01s/epochs]\n"
     ]
    },
    {
     "name": "stdout",
     "output_type": "stream",
     "text": [
      "Training finished for all seeds.\n",
      "training seed 0 started\n"
     ]
    },
    {
     "name": "stderr",
     "output_type": "stream",
     "text": [
      "Training: 100%|██████████| 100/100 [09:55<00:00,  5.96s/epochs]\n"
     ]
    },
    {
     "name": "stdout",
     "output_type": "stream",
     "text": [
      "Training finished for all seeds.\n",
      "training seed 1 started\n"
     ]
    },
    {
     "name": "stderr",
     "output_type": "stream",
     "text": [
      "Training: 100%|██████████| 100/100 [04:45<00:00,  2.85s/epochs]\n"
     ]
    },
    {
     "name": "stdout",
     "output_type": "stream",
     "text": [
      "Training finished for all seeds.\n",
      "training seed 2 started\n"
     ]
    },
    {
     "name": "stderr",
     "output_type": "stream",
     "text": [
      "Training: 100%|██████████| 100/100 [04:48<00:00,  2.89s/epochs]\n"
     ]
    },
    {
     "name": "stdout",
     "output_type": "stream",
     "text": [
      "Training finished for all seeds.\n",
      "  learning_rate    lambda_    accuracy_train    accuracy_val          ei         dp          eo        eodd\n",
      "---------------  ---------  ----------------  --------------  ----------  ---------  ----------  ----------\n",
      "          0.001        0            0.817744        0.818315  0.0316439   0.0774129  0.0544926   0.0544926\n",
      "          0.001        0            0.818207        0.814802  0.026737    0.0772871  0.0565781   0.0565781\n",
      "          0.001        0            0.816746        0.819944  0.0387139   0.0765501  0.0481311   0.0481311\n",
      "          0.001        0.1          0.817065        0.81691   0.00134313  0.054236   0.0217971   0.0217971\n",
      "          0.001        0.1          0.816993        0.814866  0.00145689  0.0507419  0.0208343   0.0208343\n",
      "          0.001        0.1          0.814989        0.819561  0.00592885  0.0523131  0.0160258   0.0160258\n",
      "          0.001        0.2          0.816211        0.815664  0.00663289  0.055351   0.0243164   0.0243164\n",
      "          0.001        0.2          0.816315        0.814227  0.00230795  0.0531732  0.0249635   0.0249635\n",
      "          0.001        0.2          0.814462        0.818539  0.00259141  0.0537149  0.0191616   0.0191616\n",
      "          0.001        0.4          0.81348         0.811352  0.007389    0.0552235  0.0256501   0.0256501\n",
      "          0.001        0.4          0.813568        0.810362  0.0142358   0.0551667  0.0295745   0.0295745\n",
      "          0.001        0.4          0.812058        0.816782  0.00476237  0.0543803  0.0217699   0.0217699\n",
      "          0.001        0.6          0.80797         0.80589   0.0118816   0.052337   0.0221406   0.0221406\n",
      "          0.001        0.6          0.809271        0.805187  0.0133312   0.0553545  0.0326887   0.0326887\n",
      "          0.001        0.6          0.807506        0.811799  0.00577     0.0523287  0.0238656   0.0238656\n",
      "          0.001        0.8          0.796734        0.793529  0.00590793  0.0373557  0.00362094  0.00362094\n",
      "          0.001        0.8          0.793851        0.791772  0.0124529   0.0437763  0.0257208   0.0257208\n",
      "          0.001        0.8          0.787319        0.788354  0.00715922  0.0108914  0.0415402   0.0415402\n"
     ]
    }
   ],
   "source": [
    "EI_hp_test = {}\n",
    "EI_hp_test['learning_rate'] = [0.001]\n",
    "EI_hp_test['lambda_'] = [0] \n",
    "EI_hp_test['n_epochs'] = 100\n",
    "EI_hp_test['batch_size'] = 1024\n",
    "EI_hp_test['delta_effort'] = 3.1\n",
    "EI_hp_test['lambda_'] = [0,0.1,0.2,0.4,0.6,0.8]\n",
    "EI_hp_test['fairness'] = 'EI'\n",
    "\n",
    "_, results_fb = fb_tradeoff(dataset, EI_hp_test, seeds)\n",
    "results_fb_pareto = pareto_frontier_multi(np.squeeze(results_fb))"
   ]
  },
  {
   "cell_type": "code",
   "execution_count": 16,
   "metadata": {},
   "outputs": [],
   "source": [
    "np.save('results/income_tradeoff_fb_ei.npy',results_fb_pareto)"
   ]
  },
  {
   "cell_type": "code",
   "execution_count": 21,
   "metadata": {},
   "outputs": [],
   "source": [
    "def lr_fc_model_runner(dataset, hp, seeds):\n",
    "    test = {'accuracy':[],\n",
    "            'ei_disparity':[],\n",
    "            'dp_disparity':[],\n",
    "            'eo_disparity':[],\n",
    "            'eodd_disparity':[]}\n",
    "    \n",
    "    train = {'accuracy':[],\n",
    "            'ei_disparity':[],\n",
    "            'dp_disparity':[],\n",
    "            'eo_disparity':[],\n",
    "            'eodd_disparity':[]}\n",
    "    \n",
    "    val = {'accuracy':[],\n",
    "            'ei_disparity':[],\n",
    "            'dp_disparity':[],\n",
    "            'eo_disparity':[],\n",
    "            'eodd_disparity':[]}\n",
    "\n",
    "    def append_res(l,acc,ei,dp,eo,eodd):\n",
    "        l['accuracy'].append(acc)\n",
    "        l['ei_disparity'].append(ei)\n",
    "        l['dp_disparity'].append(dp)\n",
    "        l['eo_disparity'].append(eo)\n",
    "        l['eodd_disparity'].append(eodd)\n",
    "\n",
    "    for i in range(len(seeds)):\n",
    "        print('training seed', seeds[i] ,'started')\n",
    "        random.seed(int(seeds[i]))\n",
    "        np.random.seed(seeds[i])\n",
    "        torch.manual_seed(seeds[i]) \n",
    "\n",
    "        model = logReg(num_features=dataset.XZ_train.shape[1])\n",
    "        model = model.to(device)\n",
    "        \n",
    "        lr = hp['learning_rate']\n",
    "        optimizer = optim.Adam(model.parameters(), lr=lr, weight_decay=1e-4)\n",
    "        \n",
    "        results = trainer_fc_fair(\n",
    "            model,\n",
    "            dataset,\n",
    "            optimizer,\n",
    "            device,\n",
    "            n_epochs=hp['n_epochs'],\n",
    "            batch_size=hp['batch_size'], \n",
    "            z_blind=False,\n",
    "            fairness=hp['fairness'], \n",
    "            lambda_=hp['lambda_'],\n",
    "            optimal_effort=True, \n",
    "            delta_effort=hp['delta_effort']\n",
    "            )\n",
    "        append_res(train,results.train_acc_hist[-1],results.train_ei_hist[-1],results.train_dp_hist[-1],results.train_eo_hist[-1],results.train_eodd_hist[-1])\n",
    "        append_res(val,results.val_acc,results.val_ei,results.val_dp,results.val_eo,results.val_eodd)\n",
    "        append_res(test,results.test_acc,results.test_ei,results.test_dp,results.test_eo,results.test_eodd)\n",
    "\n",
    "    def get_res(l):\n",
    "        res = {}\n",
    "        res['accuracy_mean'] = np.mean(l['accuracy'])\n",
    "        res['accuracy_var'] = np.std(l['accuracy'])\n",
    "        res['accuracy_list'] = l['accuracy']\n",
    "        res['ei_mean'] = np.mean(l['ei_disparity'])\n",
    "        res['ei_var'] = np.std(l['ei_disparity'])\n",
    "        res['ei_list'] = l['ei_disparity']\n",
    "        res['dp_mean'] = np.mean(l['dp_disparity'])\n",
    "        res['dp_var'] = np.std(l['dp_disparity'])\n",
    "        res['dp_list'] = l['dp_disparity']\n",
    "        res['eo_mean'] = np.mean(l['eo_disparity'])\n",
    "        res['eo_var'] = np.std(l['eo_disparity'])\n",
    "        res['eo_list'] = l['eo_disparity']\n",
    "        res['eodd_mean'] = np.mean(l['eodd_disparity'])\n",
    "        res['eodd_var'] = np.std(l['eodd_disparity'])\n",
    "        res['eodd_list'] = l['eodd_disparity']\n",
    "        return res\n",
    "\n",
    "    res_train = get_res(train)\n",
    "    res_val = get_res(val)\n",
    "    res_test = get_res(test)\n",
    "    print('Training finished for all seeds.')\n",
    "    \n",
    "    return res_train, res_val, res_test\n",
    "\n",
    "def fc_tradeoff(dataset, hp_test, seeds):\n",
    "    hp = hp_test.copy()\n",
    "    result = []\n",
    "    result_test = []\n",
    "    for i in hp_test['learning_rate']:\n",
    "        for k in hp_test['lambda_']:\n",
    "            for seed in seeds:\n",
    "                c = []\n",
    "                c_test = []\n",
    "                hp['learning_rate'] = i\n",
    "                hp['lambda_'] = k\n",
    "                train, val, test = lr_fc_model_runner(dataset, hp, seeds=[seed])\n",
    "                c.append(hp['learning_rate'])\n",
    "                c.append(hp['lambda_'])\n",
    "                c.append(train['accuracy_mean'])\n",
    "                c.append(val['accuracy_mean'])\n",
    "                c.append(val['ei_mean'])\n",
    "                c.append(val['dp_mean'])\n",
    "                c.append(val['eo_mean'])\n",
    "                c.append(val['eodd_mean'])\n",
    "                c_test.append(test['accuracy_mean'])\n",
    "                c_test.append(test['ei_mean'])\n",
    "                result_test.append(c_test)\n",
    "                result.append(c)\n",
    "    print(tabulate(result, headers=['learning_rate', 'lambda_', 'accuracy_train', 'accuracy_val','ei', 'dp', 'eo', 'eodd']))\n",
    "    return result, result_test"
   ]
  },
  {
   "cell_type": "code",
   "execution_count": 22,
   "metadata": {},
   "outputs": [
    {
     "name": "stdout",
     "output_type": "stream",
     "text": [
      "training seed 0 started\n"
     ]
    },
    {
     "name": "stderr",
     "output_type": "stream",
     "text": [
      "Training: 100%|██████████| 100/100 [04:49<00:00,  2.90s/epochs]\n"
     ]
    },
    {
     "name": "stdout",
     "output_type": "stream",
     "text": [
      "Training finished for all seeds.\n",
      "training seed 1 started\n"
     ]
    },
    {
     "name": "stderr",
     "output_type": "stream",
     "text": [
      "Training: 100%|██████████| 100/100 [04:57<00:00,  2.97s/epochs]\n"
     ]
    },
    {
     "name": "stdout",
     "output_type": "stream",
     "text": [
      "Training finished for all seeds.\n",
      "training seed 2 started\n"
     ]
    },
    {
     "name": "stderr",
     "output_type": "stream",
     "text": [
      "Training: 100%|██████████| 100/100 [05:08<00:00,  3.08s/epochs]\n"
     ]
    },
    {
     "name": "stdout",
     "output_type": "stream",
     "text": [
      "Training finished for all seeds.\n",
      "training seed 0 started\n"
     ]
    },
    {
     "name": "stderr",
     "output_type": "stream",
     "text": [
      "Training: 100%|██████████| 100/100 [05:09<00:00,  3.09s/epochs]\n"
     ]
    },
    {
     "name": "stdout",
     "output_type": "stream",
     "text": [
      "Training finished for all seeds.\n",
      "training seed 1 started\n"
     ]
    },
    {
     "name": "stderr",
     "output_type": "stream",
     "text": [
      "Training: 100%|██████████| 100/100 [05:03<00:00,  3.04s/epochs]\n"
     ]
    },
    {
     "name": "stdout",
     "output_type": "stream",
     "text": [
      "Training finished for all seeds.\n",
      "training seed 2 started\n"
     ]
    },
    {
     "name": "stderr",
     "output_type": "stream",
     "text": [
      "Training: 100%|██████████| 100/100 [05:05<00:00,  3.05s/epochs]\n"
     ]
    },
    {
     "name": "stdout",
     "output_type": "stream",
     "text": [
      "Training finished for all seeds.\n",
      "training seed 0 started\n"
     ]
    },
    {
     "name": "stderr",
     "output_type": "stream",
     "text": [
      "Training: 100%|██████████| 100/100 [05:02<00:00,  3.03s/epochs]\n"
     ]
    },
    {
     "name": "stdout",
     "output_type": "stream",
     "text": [
      "Training finished for all seeds.\n",
      "training seed 1 started\n"
     ]
    },
    {
     "name": "stderr",
     "output_type": "stream",
     "text": [
      "Training: 100%|██████████| 100/100 [04:44<00:00,  2.85s/epochs]\n"
     ]
    },
    {
     "name": "stdout",
     "output_type": "stream",
     "text": [
      "Training finished for all seeds.\n",
      "training seed 2 started\n"
     ]
    },
    {
     "name": "stderr",
     "output_type": "stream",
     "text": [
      "Training: 100%|██████████| 100/100 [04:46<00:00,  2.86s/epochs]\n"
     ]
    },
    {
     "name": "stdout",
     "output_type": "stream",
     "text": [
      "Training finished for all seeds.\n",
      "training seed 0 started\n"
     ]
    },
    {
     "name": "stderr",
     "output_type": "stream",
     "text": [
      "Training: 100%|██████████| 100/100 [04:47<00:00,  2.88s/epochs]\n"
     ]
    },
    {
     "name": "stdout",
     "output_type": "stream",
     "text": [
      "Training finished for all seeds.\n",
      "training seed 1 started\n"
     ]
    },
    {
     "name": "stderr",
     "output_type": "stream",
     "text": [
      "Training: 100%|██████████| 100/100 [04:53<00:00,  2.93s/epochs]\n"
     ]
    },
    {
     "name": "stdout",
     "output_type": "stream",
     "text": [
      "Training finished for all seeds.\n",
      "training seed 2 started\n"
     ]
    },
    {
     "name": "stderr",
     "output_type": "stream",
     "text": [
      "Training: 100%|██████████| 100/100 [04:54<00:00,  2.95s/epochs]\n"
     ]
    },
    {
     "name": "stdout",
     "output_type": "stream",
     "text": [
      "Training finished for all seeds.\n",
      "training seed 0 started\n"
     ]
    },
    {
     "name": "stderr",
     "output_type": "stream",
     "text": [
      "Training: 100%|██████████| 100/100 [04:56<00:00,  2.96s/epochs]\n"
     ]
    },
    {
     "name": "stdout",
     "output_type": "stream",
     "text": [
      "Training finished for all seeds.\n",
      "training seed 1 started\n"
     ]
    },
    {
     "name": "stderr",
     "output_type": "stream",
     "text": [
      "Training: 100%|██████████| 100/100 [05:06<00:00,  3.06s/epochs]\n"
     ]
    },
    {
     "name": "stdout",
     "output_type": "stream",
     "text": [
      "Training finished for all seeds.\n",
      "training seed 2 started\n"
     ]
    },
    {
     "name": "stderr",
     "output_type": "stream",
     "text": [
      "Training: 100%|██████████| 100/100 [05:09<00:00,  3.09s/epochs]\n"
     ]
    },
    {
     "name": "stdout",
     "output_type": "stream",
     "text": [
      "Training finished for all seeds.\n",
      "training seed 0 started\n"
     ]
    },
    {
     "name": "stderr",
     "output_type": "stream",
     "text": [
      "Training: 100%|██████████| 100/100 [05:07<00:00,  3.08s/epochs]\n"
     ]
    },
    {
     "name": "stdout",
     "output_type": "stream",
     "text": [
      "Training finished for all seeds.\n",
      "training seed 1 started\n"
     ]
    },
    {
     "name": "stderr",
     "output_type": "stream",
     "text": [
      "Training: 100%|██████████| 100/100 [04:44<00:00,  2.85s/epochs]\n"
     ]
    },
    {
     "name": "stdout",
     "output_type": "stream",
     "text": [
      "Training finished for all seeds.\n",
      "training seed 2 started\n"
     ]
    },
    {
     "name": "stderr",
     "output_type": "stream",
     "text": [
      "Training: 100%|██████████| 100/100 [04:44<00:00,  2.85s/epochs]\n"
     ]
    },
    {
     "name": "stdout",
     "output_type": "stream",
     "text": [
      "Training finished for all seeds.\n",
      "  learning_rate    lambda_    accuracy_train    accuracy_val          ei         dp         eo       eodd\n",
      "---------------  ---------  ----------------  --------------  ----------  ---------  ---------  ---------\n",
      "          0.001       0             0.817744        0.818315  0.0316439   0.0774129  0.0544926  0.0544926\n",
      "          0.001       0             0.818207        0.814802  0.026737    0.0772871  0.0565781  0.0565781\n",
      "          0.001       0             0.816746        0.819944  0.0387139   0.0765501  0.0481311  0.0481311\n",
      "          0.001       0.5           0.815971        0.816942  0.0258656   0.0783484  0.0556239  0.0556239\n",
      "          0.001       0.5           0.81681         0.814131  0.0228834   0.0763195  0.0564573  0.0564573\n",
      "          0.001       0.5           0.815348        0.818858  0.0338167   0.0769601  0.0491023  0.0491023\n",
      "          0.001       0.75          0.813735        0.813939  0.0180518   0.078285   0.0556411  0.0556411\n",
      "          0.001       0.75          0.814063        0.812534  0.0167793   0.076451   0.0569105  0.0569105\n",
      "          0.001       0.75          0.81221         0.817038  0.0254665   0.0770913  0.0505749  0.0505749\n",
      "          0.001       0.85          0.810461        0.809979  0.0119408   0.0773786  0.0554287  0.0554287\n",
      "          0.001       0.85          0.810996        0.808701  0.011576    0.0761128  0.0568882  0.0568882\n",
      "          0.001       0.85          0.809423        0.814259  0.0188657   0.0767881  0.0516252  0.0516252\n",
      "          0.001       0.9           0.807395        0.807839  0.00783794  0.0762969  0.0544791  0.0544791\n",
      "          0.001       0.9           0.808121        0.805571  0.00953905  0.0746134  0.0571339  0.0571339\n",
      "          0.001       0.9           0.806237        0.811895  0.015185    0.0757502  0.0509417  0.0509417\n",
      "          0.001       0.95          0.800647        0.800524  0.00538319  0.0709039  0.0505708  0.0505708\n",
      "          0.001       0.95          0.80099         0.798767  0.00474893  0.0705042  0.0539629  0.0539629\n",
      "          0.001       0.95          0.799289        0.804932  0.011824    0.0718433  0.0493895  0.0493895\n"
     ]
    }
   ],
   "source": [
    "EI_hp_test = {}\n",
    "EI_hp_test['learning_rate'] = [0.001]\n",
    "EI_hp_test['lambda_'] = [0]\n",
    "EI_hp_test['n_epochs'] = 100\n",
    "EI_hp_test['batch_size'] = 1024\n",
    "EI_hp_test['delta_effort'] = 3.1\n",
    "EI_hp_test['lambda_'] = [0,0.5,0.75,0.85,0.9,0.95]\n",
    "EI_hp_test['fairness'] = 'EI'\n",
    "seeds = np.arange(3)\n",
    "_, results_fc = fc_tradeoff(dataset, EI_hp_test, seeds)"
   ]
  },
  {
   "cell_type": "code",
   "execution_count": 24,
   "metadata": {},
   "outputs": [],
   "source": [
    "results_fc_pareto = pareto_frontier_multi(np.squeeze(results_fc))"
   ]
  },
  {
   "cell_type": "code",
   "execution_count": 25,
   "metadata": {},
   "outputs": [
    {
     "data": {
      "text/plain": [
       "array([[0.81933407, 0.02910575],\n",
       "       [0.81869522, 0.02782595],\n",
       "       [0.81823525, 0.02324149],\n",
       "       [0.8175964 , 0.02300928],\n",
       "       [0.816932  , 0.02265909],\n",
       "       [0.81516878, 0.01558232],\n",
       "       [0.81194899, 0.01242045],\n",
       "       [0.81159124, 0.01150105],\n",
       "       [0.80921473, 0.00889614],\n",
       "       [0.80226407, 0.00680697],\n",
       "       [0.80200853, 0.00584074]])"
      ]
     },
     "execution_count": 25,
     "metadata": {},
     "output_type": "execute_result"
    }
   ],
   "source": [
    "results_fc_pareto"
   ]
  },
  {
   "cell_type": "code",
   "execution_count": 26,
   "metadata": {},
   "outputs": [],
   "source": [
    "np.save('results/income_tradeoff_fc_ei.npy',results_fc_pareto)"
   ]
  },
  {
   "cell_type": "code",
   "execution_count": null,
   "metadata": {},
   "outputs": [],
   "source": []
  }
 ],
 "metadata": {
  "kernelspec": {
   "display_name": "Python 3.10.5 ('sampler_fairness')",
   "language": "python",
   "name": "python3"
  },
  "language_info": {
   "codemirror_mode": {
    "name": "ipython",
    "version": 3
   },
   "file_extension": ".py",
   "mimetype": "text/x-python",
   "name": "python",
   "nbconvert_exporter": "python",
   "pygments_lexer": "ipython3",
   "version": "3.10.5"
  },
  "orig_nbformat": 4,
  "vscode": {
   "interpreter": {
    "hash": "902159ac64d6098f1cb3487d51e5a4224d4aca1118329737e4cb7cda9bc70f7f"
   }
  }
 },
 "nbformat": 4,
 "nbformat_minor": 2
}
